{
  "cells": [
    {
      "cell_type": "markdown",
      "metadata": {},
      "source": [
        "# Day 5: Switch 2 Pre-sales Demand Forecasting"
      ]
    },
    {
      "cell_type": "markdown",
      "metadata": {},
      "source": [
        "You are a Product Analyst working with the Nintendo Switch 2 pre-sales team to analyze regional pre-order patterns and customer segmentation. Your team needs to understand how different demographics influence pre-sale volumes across regions. You will leverage historical pre-sale transaction data to extract meaningful insights that can guide marketing strategies."
      ]
    },
    {
      "cell_type": "code",
      "metadata": {},
      "execution_count": null,
      "outputs": [],
      "source": "import pandas as pd\nimport numpy as np\n\npre_sale_data_data = [\n  {\n    \"region\": \"North America\",\n    \"customer_id\": \"C001\",\n    \"pre_order_date\": \"2024-07-02\",\n    \"demographic_group\": \"Gamer\",\n    \"pre_order_quantity\": 1\n  },\n  {\n    \"region\": \"Europe\",\n    \"customer_id\": \"C002\",\n    \"pre_order_date\": \"2024-07-03\",\n    \"demographic_group\": \"Casual\",\n    \"pre_order_quantity\": 2\n  },\n  {\n    \"region\": \"Asia\",\n    \"customer_id\": \"C003\",\n    \"pre_order_date\": \"2024-07-04\",\n    \"demographic_group\": \"Tech Enthusiast\",\n    \"pre_order_quantity\": 1\n  },\n  {\n    \"region\": \"Latin America\",\n    \"customer_id\": \"C004\",\n    \"pre_order_date\": \"2024-07-05\",\n    \"demographic_group\": \"Family\",\n    \"pre_order_quantity\": 3\n  },\n  {\n    \"region\": \"Oceania\",\n    \"customer_id\": \"C005\",\n    \"pre_order_date\": \"2024-07-06\",\n    \"demographic_group\": \"Student\",\n    \"pre_order_quantity\": 2\n  },\n  {\n    \"region\": \"North America\",\n    \"customer_id\": \"C006\",\n    \"pre_order_date\": \"2024-07-07\",\n    \"demographic_group\": \"Gamer\",\n    \"pre_order_quantity\": 5\n  },\n  {\n    \"region\": \"Europe\",\n    \"customer_id\": \"C007\",\n    \"pre_order_date\": \"2024-07-08\",\n    \"demographic_group\": null,\n    \"pre_order_quantity\": 2\n  },\n  {\n    \"region\": null,\n    \"customer_id\": \"C008\",\n    \"pre_order_date\": \"2024-07-09\",\n    \"demographic_group\": \"Casual\",\n    \"pre_order_quantity\": 1\n  },\n  {\n    \"region\": \"Asia\",\n    \"customer_id\": \"C009\",\n    \"pre_order_date\": \"2024-07-10\",\n    \"demographic_group\": \"Family\",\n    \"pre_order_quantity\": 4\n  },\n  {\n    \"region\": \"North America\",\n    \"customer_id\": \"C010\",\n    \"pre_order_date\": \"2024-07-11\",\n    \"demographic_group\": \"Gamer\",\n    \"pre_order_quantity\": 1\n  },\n  {\n    \"region\": \"North America\",\n    \"customer_id\": \"C010\",\n    \"pre_order_date\": \"2024-07-11\",\n    \"demographic_group\": \"Gamer\",\n    \"pre_order_quantity\": 1\n  },\n  {\n    \"region\": \"Europe\",\n    \"customer_id\": \"C011\",\n    \"pre_order_date\": \"2024-07-12\",\n    \"demographic_group\": \"Student\",\n    \"pre_order_quantity\": 2\n  },\n  {\n    \"region\": \"Asia\",\n    \"customer_id\": \"C012\",\n    \"pre_order_date\": \"2024-07-13\",\n    \"demographic_group\": \"Casual\",\n    \"pre_order_quantity\": 3\n  },\n  {\n    \"region\": \"Latin America\",\n    \"customer_id\": \"C013\",\n    \"pre_order_date\": \"2024-07-14\",\n    \"demographic_group\": \"Tech Enthusiast\",\n    \"pre_order_quantity\": 2\n  },\n  {\n    \"region\": \"Oceania\",\n    \"customer_id\": \"C014\",\n    \"pre_order_date\": \"2024-07-15\",\n    \"demographic_group\": \"Gamer\",\n    \"pre_order_quantity\": 5\n  },\n  {\n    \"region\": \"North America\",\n    \"customer_id\": \"C015\",\n    \"pre_order_date\": \"2024-07-16\",\n    \"demographic_group\": \"Casual\",\n    \"pre_order_quantity\": 1\n  },\n  {\n    \"region\": \"Europe\",\n    \"customer_id\": \"C016\",\n    \"pre_order_date\": \"2024-07-17\",\n    \"demographic_group\": \"Family\",\n    \"pre_order_quantity\": 4\n  },\n  {\n    \"region\": \"Asia\",\n    \"customer_id\": \"C017\",\n    \"pre_order_date\": \"2024-07-18\",\n    \"demographic_group\": \"Student\",\n    \"pre_order_quantity\": 3\n  },\n  {\n    \"region\": \"Latin America\",\n    \"customer_id\": \"C018\",\n    \"pre_order_date\": \"2024-07-19\",\n    \"demographic_group\": \"Gamer\",\n    \"pre_order_quantity\": 1\n  },\n  {\n    \"region\": \"Oceania\",\n    \"customer_id\": \"C019\",\n    \"pre_order_date\": \"2024-07-20\",\n    \"demographic_group\": \"Tech Enthusiast\",\n    \"pre_order_quantity\": 2\n  },\n  {\n    \"region\": \"Oceania\",\n    \"customer_id\": \"C019\",\n    \"pre_order_date\": \"2024-07-20\",\n    \"demographic_group\": \"Tech Enthusiast\",\n    \"pre_order_quantity\": 2\n  },\n  {\n    \"region\": \"North America\",\n    \"customer_id\": \"C020\",\n    \"pre_order_date\": \"2024-07-21\",\n    \"demographic_group\": \"Family\",\n    \"pre_order_quantity\": 3\n  },\n  {\n    \"region\": \"Europe\",\n    \"customer_id\": \"C021\",\n    \"pre_order_date\": \"2024-07-22\",\n    \"demographic_group\": \"Gamer\",\n    \"pre_order_quantity\": 2\n  },\n  {\n    \"region\": \"Asia\",\n    \"customer_id\": \"C022\",\n    \"pre_order_date\": \"2024-07-23\",\n    \"demographic_group\": \"Casual\",\n    \"pre_order_quantity\": 1\n  },\n  {\n    \"region\": \"Latin America\",\n    \"customer_id\": \"C023\",\n    \"pre_order_date\": \"2024-07-24\",\n    \"demographic_group\": \"Student\",\n    \"pre_order_quantity\": 4\n  },\n  {\n    \"region\": \"Oceania\",\n    \"customer_id\": \"C024\",\n    \"pre_order_date\": \"2024-07-25\",\n    \"demographic_group\": \"Family\",\n    \"pre_order_quantity\": 2\n  },\n  {\n    \"region\": \"North America\",\n    \"customer_id\": \"C025\",\n    \"pre_order_date\": \"2024-07-26\",\n    \"demographic_group\": \"Tech Enthusiast\",\n    \"pre_order_quantity\": 1\n  },\n  {\n    \"region\": \"Europe\",\n    \"customer_id\": \"C026\",\n    \"pre_order_date\": \"2024-07-27\",\n    \"demographic_group\": \"Student\",\n    \"pre_order_quantity\": 5\n  },\n  {\n    \"region\": \"Asia\",\n    \"customer_id\": \"C027\",\n    \"pre_order_date\": \"2024-07-28\",\n    \"demographic_group\": \"Gamer\",\n    \"pre_order_quantity\": 2\n  },\n  {\n    \"region\": \"Latin America\",\n    \"customer_id\": \"C028\",\n    \"pre_order_date\": \"2024-07-29\",\n    \"demographic_group\": \"Casual\",\n    \"pre_order_quantity\": 3\n  },\n  {\n    \"region\": \"Oceania\",\n    \"customer_id\": \"C029\",\n    \"pre_order_date\": \"2024-07-30\",\n    \"demographic_group\": \"Family\",\n    \"pre_order_quantity\": 1\n  },\n  {\n    \"region\": \"North America\",\n    \"customer_id\": \"C030\",\n    \"pre_order_date\": \"2024-08-01\",\n    \"demographic_group\": \"Gamer\",\n    \"pre_order_quantity\": 1\n  },\n  {\n    \"region\": \"Asia\",\n    \"customer_id\": \"C031\",\n    \"pre_order_date\": \"2024-08-02\",\n    \"demographic_group\": null,\n    \"pre_order_quantity\": 2\n  },\n  {\n    \"region\": \"Latin America\",\n    \"customer_id\": \"C032\",\n    \"pre_order_date\": \"2024-08-03\",\n    \"demographic_group\": \"Tech Enthusiast\",\n    \"pre_order_quantity\": 3\n  },\n  {\n    \"region\": \"Oceania\",\n    \"customer_id\": \"C033\",\n    \"pre_order_date\": \"2024-08-04\",\n    \"demographic_group\": \"Student\",\n    \"pre_order_quantity\": 1\n  },\n  {\n    \"region\": \"North America\",\n    \"customer_id\": \"C034\",\n    \"pre_order_date\": \"2024-08-05\",\n    \"demographic_group\": \"Family\",\n    \"pre_order_quantity\": 4\n  },\n  {\n    \"region\": \"Europe\",\n    \"customer_id\": \"C035\",\n    \"pre_order_date\": \"2024-08-06\",\n    \"demographic_group\": \"Gamer\",\n    \"pre_order_quantity\": 2\n  },\n  {\n    \"region\": \"Asia\",\n    \"customer_id\": \"C036\",\n    \"pre_order_date\": \"2024-08-07\",\n    \"demographic_group\": \"Casual\",\n    \"pre_order_quantity\": 5\n  },\n  {\n    \"region\": \"Latin America\",\n    \"customer_id\": \"C037\",\n    \"pre_order_date\": \"2024-08-08\",\n    \"demographic_group\": \"Family\",\n    \"pre_order_quantity\": 1\n  },\n  {\n    \"region\": \"Oceania\",\n    \"customer_id\": \"C038\",\n    \"pre_order_date\": \"2024-08-09\",\n    \"demographic_group\": \"Tech Enthusiast\",\n    \"pre_order_quantity\": 2\n  },\n  {\n    \"region\": \"North America\",\n    \"customer_id\": \"C039\",\n    \"pre_order_date\": \"2024-08-10\",\n    \"demographic_group\": \"Student\",\n    \"pre_order_quantity\": 10\n  },\n  {\n    \"region\": \"Europe\",\n    \"customer_id\": \"C040\",\n    \"pre_order_date\": \"2024-08-11\",\n    \"demographic_group\": \"Family\",\n    \"pre_order_quantity\": 3\n  },\n  {\n    \"region\": \"Asia\",\n    \"customer_id\": \"C041\",\n    \"pre_order_date\": \"2024-08-12\",\n    \"demographic_group\": \"Gamer\",\n    \"pre_order_quantity\": 1\n  },\n  {\n    \"region\": \"Latin America\",\n    \"customer_id\": \"C042\",\n    \"pre_order_date\": \"2024-08-13\",\n    \"demographic_group\": \"Casual\",\n    \"pre_order_quantity\": 2\n  },\n  {\n    \"region\": \"Oceania\",\n    \"customer_id\": \"C043\",\n    \"pre_order_date\": \"2024-08-14\",\n    \"demographic_group\": \"Student\",\n    \"pre_order_quantity\": 5\n  },\n  {\n    \"region\": \"North America\",\n    \"customer_id\": \"C044\",\n    \"pre_order_date\": \"2024-08-15\",\n    \"demographic_group\": \"Tech Enthusiast\",\n    \"pre_order_quantity\": 2\n  },\n  {\n    \"region\": \"Europe\",\n    \"customer_id\": \"C045\",\n    \"pre_order_date\": \"2024-08-16\",\n    \"demographic_group\": \"Family\",\n    \"pre_order_quantity\": 1\n  },\n  {\n    \"region\": \"Asia\",\n    \"customer_id\": \"C046\",\n    \"pre_order_date\": \"2024-08-17\",\n    \"demographic_group\": \"Gamer\",\n    \"pre_order_quantity\": 3\n  },\n  {\n    \"region\": \"Latin America\",\n    \"customer_id\": \"C047\",\n    \"pre_order_date\": \"2024-08-18\",\n    \"demographic_group\": \"Casual\",\n    \"pre_order_quantity\": 2\n  },\n  {\n    \"region\": \"Oceania\",\n    \"customer_id\": \"C048\",\n    \"pre_order_date\": \"2024-08-19\",\n    \"demographic_group\": null,\n    \"pre_order_quantity\": 4\n  },\n  {\n    \"region\": \"North America\",\n    \"customer_id\": \"C049\",\n    \"pre_order_date\": \"2024-08-20\",\n    \"demographic_group\": \"Student\",\n    \"pre_order_quantity\": 1\n  },\n  {\n    \"region\": \"Europe\",\n    \"customer_id\": \"C050\",\n    \"pre_order_date\": \"2024-08-21\",\n    \"demographic_group\": \"Gamer\",\n    \"pre_order_quantity\": 2\n  },\n  {\n    \"region\": \"Asia\",\n    \"customer_id\": \"C051\",\n    \"pre_order_date\": \"2024-08-22\",\n    \"demographic_group\": \"Casual\",\n    \"pre_order_quantity\": 3\n  },\n  {\n    \"region\": \"Latin America\",\n    \"customer_id\": \"C052\",\n    \"pre_order_date\": \"2024-08-23\",\n    \"demographic_group\": \"Tech Enthusiast\",\n    \"pre_order_quantity\": 2\n  },\n  {\n    \"region\": \"Oceania\",\n    \"customer_id\": \"C053\",\n    \"pre_order_date\": \"2024-08-24\",\n    \"demographic_group\": \"Family\",\n    \"pre_order_quantity\": 1\n  },\n  {\n    \"region\": \"North America\",\n    \"customer_id\": \"C054\",\n    \"pre_order_date\": \"2024-08-25\",\n    \"demographic_group\": \"Gamer\",\n    \"pre_order_quantity\": 1\n  },\n  {\n    \"region\": \"Europe\",\n    \"customer_id\": \"C055\",\n    \"pre_order_date\": \"2024-08-26\",\n    \"demographic_group\": \"Casual\",\n    \"pre_order_quantity\": 2\n  },\n  {\n    \"region\": \"Asia\",\n    \"customer_id\": \"C056\",\n    \"pre_order_date\": \"2024-08-27\",\n    \"demographic_group\": \"Student\",\n    \"pre_order_quantity\": 3\n  },\n  {\n    \"region\": \"Latin America\",\n    \"customer_id\": \"C057\",\n    \"pre_order_date\": \"2024-08-28\",\n    \"demographic_group\": \"Family\",\n    \"pre_order_quantity\": 4\n  },\n  {\n    \"region\": \"Oceania\",\n    \"customer_id\": \"C058\",\n    \"pre_order_date\": \"2024-08-29\",\n    \"demographic_group\": \"Tech Enthusiast\",\n    \"pre_order_quantity\": 1\n  }\n]\npre_sale_data = pd.DataFrame(pre_sale_data_data)\n"
    },
    {
      "cell_type": "markdown",
      "metadata": {},
      "source": [
        "## Question 1\n\nWhat percentage of records have missing values in at least one column? Handle the missing values, so that we have a cleaned dataset to work with."
      ]
    },
    {
      "cell_type": "code",
      "metadata": {},
      "execution_count": null,
      "outputs": [],
      "source": "# Step 1: Check missing values per column\nmissing_counts = df.isnull().sum()\nprint(\"Missing values per column:\\n\", missing_counts)\n\n# Step 2: Calculate percentage of records with at least one missing value\ntotal_rows = len(df)\nrows_with_na = df.isnull().any(axis=1).sum()\npercentage_missing = (rows_with_na / total_rows) * 100\nprint(f\"\\nPercentage of records with at least one missing value: {percentage_missing:.2f}%\")\n\n# Step 3: Drop records with any missing values (you can choose to fill instead)\ncleaned_df = df.dropna()\n\n# Step 4: Confirm dataset is clean\nprint(f\"\\nCleaned dataset shape: {cleaned_df.shape}\")\nprint(\"Any missing values remaining?\", cleaned_df.isnull().any().any())"
    },
    {
      "cell_type": "markdown",
      "metadata": {},
      "source": [
        "## Question 2\n\nUsing the cleaned data, calculate the total pre-sale orders per month for each region and demographic group."
      ]
    },
    {
      "cell_type": "code",
      "metadata": {},
      "execution_count": null,
      "outputs": [],
      "source": "# Step 1: Convert pre_order_date to datetime (if not already)\ncleaned_df['pre_order_date'] = pd.to_datetime(cleaned_df['pre_order_date'])\n\n# Step 2: Extract month (as period or month name)\ncleaned_df['month'] = cleaned_df['pre_order_date'].dt.to_period('M')  # Use .dt.month_name() for names\n\n# Step 3: Group by region, demographic_group, and month to calculate total pre-orders\ngrouped_orders = cleaned_df.groupby(\n    ['region', 'demographic_group', 'month']\n)['pre_order_quantity'].sum().reset_index()\n\n# Step 4: Optional Pivot Table for better readability\npivot_table = grouped_orders.pivot_table(\n    index=['region', 'demographic_group'],\n    columns='month',\n    values='pre_order_quantity',\n    fill_value=0\n).reset_index()\n\n# Step 5: Display both formats\nprint(\"Grouped Data:\\n\", grouped_orders)\nprint(\"\\nPivot Table:\\n\", pivot_table)"
    },
    {
      "cell_type": "markdown",
      "metadata": {},
      "source": [
        "## Question 3\n\nPredict the total pre-sales quantity for each region for September 2024. Assume that growth rate from August to September, is the same as the growth rate from July to August in each region."
      ]
    },
    {
      "cell_type": "code",
      "metadata": {},
      "execution_count": null,
      "outputs": [],
      "source": "# Step 1: Ensure date is datetime\ncleaned_df['pre_order_date'] = pd.to_datetime(cleaned_df['pre_order_date'])\n\n# Step 2: Extract month as period (YYYY-MM format)\ncleaned_df['month'] = cleaned_df['pre_order_date'].dt.to_period('M')\n\n# Step 3: Filter for July and August 2024 only\nfiltered = cleaned_df[cleaned_df['month'].isin([pd.Period('2024-07'), pd.Period('2024-08')])]\n\n# Step 4: Group by region and month, and sum pre_order_quantity\nmonthly_totals = filtered.groupby(['region', 'month'])['pre_order_quantity'].sum().reset_index()\n\n# Step 5: Pivot to get July and August side-by-side\npivot = monthly_totals.pivot(index='region', columns='month', values='pre_order_quantity').reset_index()\n\n# Step 6: Convert Period column headers to string\npivot.columns = pivot.columns.map(str)  # Now we can use '2024-07', '2024-08' as strings\n\n# Step 7: Calculate growth rate from July to August\npivot['growth_rate'] = (pivot['2024-08'] - pivot['2024-07']) / pivot['2024-07']\n\n# Step 8: Predict September = August × (1 + growth_rate)\npivot['2024-09_prediction'] = pivot['2024-08'] * (1 + pivot['growth_rate'])\n\n# Step 9: Display final output\nprint(pivot[['region', '2024-07', '2024-08', 'growth_rate', '2024-09_prediction']])"
    },
    {
      "cell_type": "markdown",
      "metadata": {},
      "source": [
        "Made with ❤️ by [Interview Master](https://www.interviewmaster.ai)"
      ]
    }
  ],
  "metadata": {
    "kernelspec": {
      "name": "python3",
      "language": "python",
      "display_name": "Python 3"
    },
    "language_info": {
      "name": "python",
      "version": "3",
      "mimetype": "text/x-python",
      "file_extension": ".py"
    }
  },
  "nbformat": 4,
  "nbformat_minor": 5
}