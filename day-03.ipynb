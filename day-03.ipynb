{
  "cells": [
    {
      "cell_type": "markdown",
      "metadata": {},
      "source": [
        "# Day 3: Disney Parks Guest Spending Behavior"
      ]
    },
    {
      "cell_type": "markdown",
      "metadata": {},
      "source": [
        "You are a data analyst working with the Disney Parks revenue team to understand nuanced guest spending patterns across different park experiences. The team wants to develop a comprehensive view of visitor purchasing behaviors. Your goal is to uncover meaningful insights that can drive personalized marketing strategies."
      ]
    },
    {
      "cell_type": "code",
      "metadata": {},
      "execution_count": null,
      "outputs": [],
      "source": "import pandas as pd\nimport numpy as np\n\nfct_guest_spending_data = [\n  {\n    \"guest_id\": 1,\n    \"visit_date\": \"2024-07-05\",\n    \"amount_spent\": 50,\n    \"park_experience_type\": \"Attraction\"\n  },\n  {\n    \"guest_id\": 2,\n    \"visit_date\": \"2024-07-06\",\n    \"amount_spent\": 30,\n    \"park_experience_type\": \"Dining\"\n  },\n  {\n    \"guest_id\": 3,\n    \"visit_date\": \"2024-07-10\",\n    \"amount_spent\": 20.5,\n    \"park_experience_type\": \"Retail\"\n  },\n  {\n    \"guest_id\": 4,\n    \"visit_date\": \"2024-07-12\",\n    \"amount_spent\": 40,\n    \"park_experience_type\": \"Entertainment\"\n  },\n  {\n    \"guest_id\": 1,\n    \"visit_date\": \"2024-07-15\",\n    \"amount_spent\": 35,\n    \"park_experience_type\": \"Dining\"\n  },\n  {\n    \"guest_id\": 5,\n    \"visit_date\": \"2024-07-20\",\n    \"amount_spent\": 60,\n    \"park_experience_type\": \"Attraction\"\n  },\n  {\n    \"guest_id\": 6,\n    \"visit_date\": \"2024-07-25\",\n    \"amount_spent\": 25,\n    \"park_experience_type\": \"Retail\"\n  },\n  {\n    \"guest_id\": 1,\n    \"visit_date\": \"2024-08-03\",\n    \"amount_spent\": 55,\n    \"park_experience_type\": \"Attraction\"\n  },\n  {\n    \"guest_id\": 1,\n    \"visit_date\": \"2024-08-15\",\n    \"amount_spent\": 45,\n    \"park_experience_type\": \"Dining\"\n  },\n  {\n    \"guest_id\": 2,\n    \"visit_date\": \"2024-08-05\",\n    \"amount_spent\": 22,\n    \"park_experience_type\": \"Retail\"\n  },\n  {\n    \"guest_id\": 2,\n    \"visit_date\": \"2024-08-20\",\n    \"amount_spent\": 38,\n    \"park_experience_type\": \"Entertainment\"\n  },\n  {\n    \"guest_id\": 7,\n    \"visit_date\": \"2024-08-10\",\n    \"amount_spent\": 15,\n    \"park_experience_type\": \"Character Meet\"\n  },\n  {\n    \"guest_id\": 3,\n    \"visit_date\": \"2024-08-25\",\n    \"amount_spent\": 28,\n    \"park_experience_type\": \"Retail\"\n  },\n  {\n    \"guest_id\": 3,\n    \"visit_date\": \"2024-08-27\",\n    \"amount_spent\": 32,\n    \"park_experience_type\": \"Dining\"\n  },\n  {\n    \"guest_id\": 1,\n    \"visit_date\": \"2024-09-02\",\n    \"amount_spent\": 65,\n    \"park_experience_type\": \"Attraction\"\n  },\n  {\n    \"guest_id\": 8,\n    \"visit_date\": \"2024-09-05\",\n    \"amount_spent\": 50,\n    \"park_experience_type\": \"Retail\"\n  },\n  {\n    \"guest_id\": 9,\n    \"visit_date\": \"2024-09-15\",\n    \"amount_spent\": 40,\n    \"park_experience_type\": \"Dining\"\n  },\n  {\n    \"guest_id\": 10,\n    \"visit_date\": \"2024-09-20\",\n    \"amount_spent\": 70,\n    \"park_experience_type\": \"Entertainment\"\n  },\n  {\n    \"guest_id\": 1,\n    \"visit_date\": \"2024-09-25\",\n    \"amount_spent\": 35,\n    \"park_experience_type\": \"Dining\"\n  },\n  {\n    \"guest_id\": 8,\n    \"visit_date\": \"2024-09-28\",\n    \"amount_spent\": 10,\n    \"park_experience_type\": \"Character Meet\"\n  }\n]\nfct_guest_spending = pd.DataFrame(fct_guest_spending_data)\n"
    },
    {
      "cell_type": "markdown",
      "metadata": {},
      "source": [
        "## Question 1\n\nWhat is the average spending per guest per visit for each park experience type during July 2024? Ensure that park experience types with no recorded transactions are shown with an average spending of 0.0. This analysis helps establish baseline spending differences essential for later segmentation."
      ]
    },
    {
      "cell_type": "code",
      "metadata": {},
      "execution_count": null,
      "outputs": [],
      "source": "# Convert date\nfct_guest_spending['visit_date'] = pd.to_datetime(fct_guest_spending['visit_date'])\n\n# Filter for July 2024\njuly_data = fct_guest_spending[\n    (fct_guest_spending['visit_date'] >= '2024-07-01') &\n    (fct_guest_spending['visit_date'] <= '2024-07-31')\n]\nprint(\"July data shape:\", july_data.shape)\n\n# Group by park_experience_type to compute total amount and total visits\nagg_data = july_data.groupby('park_experience_type').agg(\n    total_spent=('amount_spent', 'sum'),\n    total_visits=('guest_id', 'count')  # each row = 1 visit\n).reset_index()\n\n# Calculate avg spending per guest per visit\nagg_data['avg_spending_per_visit'] = agg_data['total_spent'] / agg_data['total_visits']\n\n# Ensure park experience types with 0 visits are included\nall_experiences = pd.DataFrame(\n    fct_guest_spending['park_experience_type'].unique(),\n    columns=['park_experience_type']\n)\nprint(\"All experience types:\\n\", all_experiences)\n\n# Left join to include all types, fill NaN with 0.0\nfinal_result = all_experiences.merge(agg_data, on='park_experience_type', how='left')\nfinal_result['avg_spending_per_visit'] = final_result['avg_spending_per_visit'].fillna(0.0)\n\n# Display final result\nprint(\"Final Output:\\n\", final_result[['park_experience_type', 'avg_spending_per_visit']])"
    },
    {
      "cell_type": "markdown",
      "metadata": {},
      "source": [
        "## Question 2\n\nFor guests who visited our parks more than once in August 2024, what is the difference in spending between their first and their last visit? This investigation, using sequential analysis, will reveal any shifts in guest spending behavior over multiple visits."
      ]
    },
    {
      "cell_type": "code",
      "metadata": {},
      "execution_count": null,
      "outputs": [],
      "source": "# Step 1: Convert visit_date to datetime\nfct_guest_spending['visit_date'] = pd.to_datetime(fct_guest_spending['visit_date'])\n\n# Step 2: Filter for August 2024\naug_data = fct_guest_spending[\n    (fct_guest_spending['visit_date'].dt.year == 2024) &\n    (fct_guest_spending['visit_date'].dt.month == 8)\n]\n\n# Step 3: Total spending per guest per visit (in case of multiple entries per day)\nvisit_summary = aug_data.groupby(['guest_id', 'visit_date'], as_index=False)['amount_spent'].sum()\n\n# Step 4: Filter guests with more than one visit\nvisit_counts = visit_summary['guest_id'].value_counts()\nrepeat_guests = visit_counts[visit_counts > 1].index\n\nrepeat_visits = visit_summary[visit_summary['guest_id'].isin(repeat_guests)]\n\n# Step 5: For each guest, calculate difference between last and first visit spending\nfirst_last_diff = (\n    repeat_visits.sort_values(['guest_id', 'visit_date'])\n    .groupby('guest_id')\n    .agg(first_spend=('amount_spent', 'first'),\n         last_spend=('amount_spent', 'last'))\n    .reset_index()\n)\n\n# Step 6: Compute difference\nfirst_last_diff['spend_diff'] = first_last_diff['last_spend'] - first_last_diff['first_spend']\n\n# Step 7: Display result\nprint(first_last_diff[['guest_id', 'spend_diff']])"
    },
    {
      "cell_type": "markdown",
      "metadata": {},
      "source": [
        "## Question 3\n\nIn September 2024, how can guests be categorized into distinct spending segments such as Low, Medium, and High based on their total spending? Use the following thresholds for categorization: \n-Low: Includes values from $0 up to, but not including, $50.\n-Medium: Includes values from $50 up to, but not including, $100.\n-High: Includes values from $100 and above. \nExclude guests who did not make any purchases in the period."
      ]
    },
    {
      "cell_type": "code",
      "metadata": {},
      "execution_count": null,
      "outputs": [],
      "source": "# Step 1: Convert visit_date to datetime\nfct_guest_spending['visit_date'] = pd.to_datetime(fct_guest_spending['visit_date'])\n\n# Step 2: Filter for September 2024\nsep_data = fct_guest_spending[\n    (fct_guest_spending['visit_date'].dt.year == 2024) &\n    (fct_guest_spending['visit_date'].dt.month == 9)\n]\n\n# Step 3: Total spending per guest\nguest_spending = sep_data.groupby('guest_id', as_index=False)['amount_spent'].sum()\nguest_spending.rename(columns={'amount_spent': 'total_spent'}, inplace=True)\n\n# Step 4: Exclude guests with no spending\nguest_spending = guest_spending[guest_spending['total_spent'] > 0]\n\n# Step 5: Categorize into Low, Medium, High\ndef categorize_spending(amount):\n    if amount < 50:\n        return 'Low'\n    elif amount < 100:\n        return 'Medium'\n    else:\n        return 'High'\n\nguest_spending['spending_segment'] = guest_spending['total_spent'].apply(categorize_spending)\n\n# Step 6: Display result\nprint(guest_spending[['guest_id', 'total_spent', 'spending_segment']])"
    },
    {
      "cell_type": "markdown",
      "metadata": {},
      "source": [
        "Made with ❤️ by [Interview Master](https://www.interviewmaster.ai)"
      ]
    }
  ],
  "metadata": {
    "kernelspec": {
      "name": "python3",
      "language": "python",
      "display_name": "Python 3"
    },
    "language_info": {
      "name": "python",
      "version": "3",
      "mimetype": "text/x-python",
      "file_extension": ".py"
    }
  },
  "nbformat": 4,
  "nbformat_minor": 5
}