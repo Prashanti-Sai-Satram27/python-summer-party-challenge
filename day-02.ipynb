{
  "cells": [
    {
      "cell_type": "markdown",
      "metadata": {},
      "source": [
        "# Day 2: Sponsored Posts Click Performance"
      ]
    },
    {
      "cell_type": "markdown",
      "metadata": {},
      "source": [
        "You are a Product Analyst on the Amazon Sponsored Advertising team investigating sponsored product ad engagement across electronics categories. Your team wants to understand CTR variations to optimize targeted advertising strategies."
      ]
    },
    {
      "cell_type": "code",
      "metadata": {},
      "execution_count": null,
      "outputs": [],
      "source": "import pandas as pd\nimport numpy as np\n\ndim_product_data = [\n  {\n    \"product_id\": 1,\n    \"product_name\": \"Smart TV\",\n    \"product_category\": \"Home Electronics\"\n  },\n  {\n    \"product_id\": 2,\n    \"product_name\": \"Wireless Earbuds\",\n    \"product_category\": \"Electronics & Gadgets\"\n  },\n  {\n    \"product_id\": 3,\n    \"product_name\": \"Refrigerator\",\n    \"product_category\": \"Electronics Appliances\"\n  },\n  {\n    \"product_id\": 4,\n    \"product_name\": \"Bestselling Novel\",\n    \"product_category\": \"Books\"\n  },\n  {\n    \"product_id\": 5,\n    \"product_name\": \"Designer Jeans\",\n    \"product_category\": \"Fashion\"\n  },\n  {\n    \"product_id\": 6,\n    \"product_name\": \"Blender\",\n    \"product_category\": \"Kitchen\"\n  },\n  {\n    \"product_id\": 7,\n    \"product_name\": \"Tent\",\n    \"product_category\": \"Outdoor\"\n  },\n  {\n    \"product_id\": 8,\n    \"product_name\": \"Smart Home Hub\",\n    \"product_category\": \"Home Electronics\"\n  },\n  {\n    \"product_id\": 9,\n    \"product_name\": \"Phone Charger\",\n    \"product_category\": \"Electronics Accessories\"\n  },\n  {\n    \"product_id\": 10,\n    \"product_name\": \"Skincare Set\",\n    \"product_category\": \"Health & Beauty\"\n  },\n  {\n    \"product_id\": 11,\n    \"product_name\": \"Drone\",\n    \"product_category\": \"Electronics Gadgets\"\n  },\n  {\n    \"product_id\": 12,\n    \"product_name\": \"Car Charger\",\n    \"product_category\": \"Automotive\"\n  }\n]\ndim_product = pd.DataFrame(dim_product_data)\n\nfct_ad_performance_data = [\n  {\n    \"ad_id\": 101,\n    \"clicks\": 10,\n    \"product_id\": 1,\n    \"impressions\": 200,\n    \"recorded_date\": \"2024-10-02\"\n  },\n  {\n    \"ad_id\": 102,\n    \"clicks\": 15,\n    \"product_id\": 1,\n    \"impressions\": 300,\n    \"recorded_date\": \"2024-10-12\"\n  },\n  {\n    \"ad_id\": 103,\n    \"clicks\": 20,\n    \"product_id\": 2,\n    \"impressions\": 250,\n    \"recorded_date\": \"2024-10-05\"\n  },\n  {\n    \"ad_id\": 104,\n    \"clicks\": 18,\n    \"product_id\": 2,\n    \"impressions\": 230,\n    \"recorded_date\": \"2024-10-20\"\n  },\n  {\n    \"ad_id\": 105,\n    \"clicks\": 5,\n    \"product_id\": 3,\n    \"impressions\": 150,\n    \"recorded_date\": \"2024-10-15\"\n  },\n  {\n    \"ad_id\": 106,\n    \"clicks\": 12,\n    \"product_id\": 3,\n    \"impressions\": 180,\n    \"recorded_date\": \"2024-10-25\"\n  },\n  {\n    \"ad_id\": 107,\n    \"clicks\": 50,\n    \"product_id\": 4,\n    \"impressions\": 500,\n    \"recorded_date\": \"2024-10-07\"\n  },\n  {\n    \"ad_id\": 108,\n    \"clicks\": 8,\n    \"product_id\": 5,\n    \"impressions\": 250,\n    \"recorded_date\": \"2024-10-18\"\n  },\n  {\n    \"ad_id\": 109,\n    \"clicks\": 14,\n    \"product_id\": 6,\n    \"impressions\": 200,\n    \"recorded_date\": \"2024-10-10\"\n  },\n  {\n    \"ad_id\": 110,\n    \"clicks\": 22,\n    \"product_id\": 8,\n    \"impressions\": 220,\n    \"recorded_date\": \"2024-10-30\"\n  },\n  {\n    \"ad_id\": 111,\n    \"clicks\": 30,\n    \"product_id\": 9,\n    \"impressions\": 300,\n    \"recorded_date\": \"2024-10-08\"\n  },\n  {\n    \"ad_id\": 112,\n    \"clicks\": 7,\n    \"product_id\": 11,\n    \"impressions\": 120,\n    \"recorded_date\": \"2024-10-22\"\n  },\n  {\n    \"ad_id\": 113,\n    \"clicks\": 13,\n    \"product_id\": 11,\n    \"impressions\": 150,\n    \"recorded_date\": \"2024-10-28\"\n  },\n  {\n    \"ad_id\": 114,\n    \"clicks\": 9,\n    \"product_id\": 12,\n    \"impressions\": 190,\n    \"recorded_date\": \"2024-10-11\"\n  },\n  {\n    \"ad_id\": 115,\n    \"clicks\": 16,\n    \"product_id\": 2,\n    \"impressions\": 160,\n    \"recorded_date\": \"2024-11-01\"\n  }\n]\nfct_ad_performance = pd.DataFrame(fct_ad_performance_data)\n"
    },
    {
      "cell_type": "markdown",
      "metadata": {},
      "source": [
        "## Question 1\n\nWhat is the average click-through rate (CTR) for sponsored product ads for each product category that contains the substring 'Electronics' in its name during October 2024? This analysis will help determine which electronics-related categories are performing optimally."
      ]
    },
    {
      "cell_type": "code",
      "metadata": {},
      "execution_count": null,
      "outputs": [],
      "source": "# Step 1: Convert date\nfct_ad_performance['recorded_date'] = pd.to_datetime(fct_ad_performance['recorded_date'])\n\n# Step 2: Filter for October 2024\noct_2024_ads = fct_ad_performance[\n    (fct_ad_performance['recorded_date'].dt.year == 2024) &\n    (fct_ad_performance['recorded_date'].dt.month == 10)\n]\n\n# Step 3: Merge with product info\nmerged_df = oct_2024_ads.merge(dim_product, on='product_id', how='left')\n\n# Step 4: Filter product categories containing 'Electronics'\nelectronics_df = merged_df[merged_df['product_category'].str.contains('Electronics', case=False, na=False)]\n\n# Step 5: Calculate CTR\nelectronics_df['CTR'] = electronics_df['clicks'] / electronics_df['impressions']\n\n# Step 6: Group by category and get average CTR\nresult = electronics_df.groupby('product_category')['CTR'].mean().reset_index()\n\n# Step 7: Print result\nprint(result)\n# Note: pandas and numpy are already imported as pd and np\n# The following tables are loaded as pandas DataFrames with the same names: fct_ad_performance, dim_product\n# Please print your final result or dataframe"
    },
    {
      "cell_type": "markdown",
      "metadata": {},
      "source": [
        "## Question 2\n\nWhich product categories have a CTR greater than the aggregated overall average CTR for sponsored product ads during October 2024? This analysis will identify high-performing categories for further optimization. For this question, we want to calculate CTR for each ad, then get the average across ads by product category & overall."
      ]
    },
    {
      "cell_type": "code",
      "metadata": {},
      "execution_count": null,
      "outputs": [],
      "source": "# Step 1: Convert date to datetime\nfct_ad_performance['recorded_date'] = pd.to_datetime(fct_ad_performance['recorded_date'])\n\n# Step 2: Filter for October 2024\noct_ads = fct_ad_performance[\n    (fct_ad_performance['recorded_date'].dt.year == 2024) &\n    (fct_ad_performance['recorded_date'].dt.month == 10)\n]\n\n# Step 3: Join with product table\nmerged = oct_ads.merge(dim_product, on='product_id', how='left')\n\n# Step 4: Calculate CTR for each ad\nmerged['CTR'] = merged['clicks'] / merged['impressions']\n\n# Step 5: Calculate average CTR per category\ncategory_ctr = merged.groupby('product_category')['CTR'].mean().reset_index()\n\n# Step 6: Calculate overall average CTR\noverall_avg_ctr = merged['CTR'].mean()\n\n# Step 7: Filter categories with CTR above overall average\nhigh_perf_categories = category_ctr[category_ctr['CTR'] > overall_avg_ctr]\n\n# Step 8: Display result\nprint(high_perf_categories)"
    },
    {
      "cell_type": "markdown",
      "metadata": {},
      "source": [
        "## Question 3\n\nFor the product categories identified in the previous question, what is the percentage difference between their CTR and the overall average CTR for October 2024? This analysis will quantify the performance gap to recommend specific categories for targeted advertising optimization."
      ]
    },
    {
      "cell_type": "code",
      "metadata": {},
      "execution_count": null,
      "outputs": [],
      "source": "# Step 1: Convert 'recorded_date' to datetime\nfct_ad_performance['recorded_date'] = pd.to_datetime(fct_ad_performance['recorded_date'])\n\n# Step 2: Filter records for October 2024\noct_ads = fct_ad_performance[\n    (fct_ad_performance['recorded_date'].dt.year == 2024) &\n    (fct_ad_performance['recorded_date'].dt.month == 10)\n]\n\n# Step 3: Merge with product category info\nmerged_df = oct_ads.merge(dim_product, on='product_id', how='left')\n\n# Step 4: Calculate CTR for each ad\nmerged_df['CTR'] = merged_df['clicks'] / merged_df['impressions']\n\n# Step 5: Calculate average CTR for each product category\ncategory_ctr = merged_df.groupby('product_category')['CTR'].mean().reset_index()\n\n# Step 6: Calculate overall average CTR across all ads\noverall_avg_ctr = merged_df['CTR'].mean()\n\n# Step 7: Filter product categories with CTR > overall average\nhigh_perf_categories = category_ctr[category_ctr['CTR'] > overall_avg_ctr].copy()\n\n# Step 8: Calculate % difference from overall average\nhigh_perf_categories['pct_difference'] = (\n    (high_perf_categories['CTR'] - overall_avg_ctr) / overall_avg_ctr\n) * 100\n\n# Step 9: Print final result\nprint(high_perf_categories)"
    },
    {
      "cell_type": "markdown",
      "metadata": {},
      "source": [
        "Made with ❤️ by [Interview Master](https://www.interviewmaster.ai)"
      ]
    }
  ],
  "metadata": {
    "kernelspec": {
      "name": "python3",
      "language": "python",
      "display_name": "Python 3"
    },
    "language_info": {
      "name": "python",
      "version": "3",
      "mimetype": "text/x-python",
      "file_extension": ".py"
    }
  },
  "nbformat": 4,
  "nbformat_minor": 5
}